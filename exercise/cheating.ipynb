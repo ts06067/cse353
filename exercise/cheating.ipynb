{
 "cells": [
  {
   "cell_type": "code",
   "execution_count": 1,
   "id": "ddf97b2e-cb17-42d3-beb0-07227207942d",
   "metadata": {},
   "outputs": [],
   "source": [
    "import numpy as np"
   ]
  },
  {
   "cell_type": "code",
   "execution_count": 2,
   "id": "bd5c0de3-8757-4374-b19f-a5792581aa61",
   "metadata": {},
   "outputs": [],
   "source": [
    "# problem generation\n",
    "\n",
    "# H = exam is hard\n",
    "# G = sitting next to genius\n",
    "\n",
    "\n",
    "prH = 0.5\n",
    "prG = 0.5\n",
    "\n",
    "prCgHG = .8\n",
    "prCgnHnG = .75\n",
    "prCgnHG = .25\n",
    "prCgHnG = .15\n",
    "\n",
    "\n",
    "m = 1000;\n",
    "\n",
    "H = np.random.rand(m) < prH\n",
    "G = np.random.rand(m) < prG\n",
    "C = np.random.rand(m)\n",
    "C = (C < prCgHG)*H*G + (C < prCgnHG)*(1-H)*G+ (C < prCgHnG)*H*(1-G) + (C < prCgnHnG)*(1-H)*(1-G)\n",
    "\n",
    "X = np.vstack([H,G]).T\n",
    "y = C\n",
    "\n",
    "Xtrain = X[:10,:]\n",
    "ytrain = y[:10]\n",
    "\n",
    "\n",
    "Xtest = X[500:,:]\n",
    "ytest = y[500:]\n"
   ]
  },
  {
   "cell_type": "code",
   "execution_count": 3,
   "id": "45e8ac5c-1864-4fc2-8e2b-dddd9e7837b4",
   "metadata": {},
   "outputs": [
    {
     "name": "stdout",
     "output_type": "stream",
     "text": [
      "1.0 0.0 0.0 1.0\n"
     ]
    }
   ],
   "source": [
    "#problem inference\n",
    "\n",
    "Htrain = Xtrain[:,0]\n",
    "Gtrain = Xtrain[:,1]\n",
    "Ctrain = ytrain\n",
    "\n",
    "#full bayes classifier\n",
    "pr_Cg_HG = np.mean(Ctrain[np.logical_and(Htrain==1, Gtrain==1)])\n",
    "pr_Cg_nHG = np.mean(Ctrain[np.logical_and(Htrain==0, Gtrain==1) ])\n",
    "pr_Cg_HnG = np.mean(Ctrain[np.logical_and(Htrain==1, Gtrain==0)])\n",
    "pr_Cg_nHnG = np.mean(Ctrain[np.logical_and(Htrain==0, Gtrain==0)])\n",
    "\n",
    "print(pr_Cg_HG,pr_Cg_nHG,pr_Cg_HnG,pr_Cg_nHnG)\n"
   ]
  },
  {
   "cell_type": "code",
   "execution_count": 4,
   "id": "e9eb06cd-f99e-4017-80cc-700fb1b8db21",
   "metadata": {},
   "outputs": [
    {
     "data": {
      "text/plain": [
       "0.798"
      ]
     },
     "execution_count": 4,
     "metadata": {},
     "output_type": "execute_result"
    }
   ],
   "source": [
    "\n",
    "Htest = Xtest[:,0]\n",
    "Gtest = Xtest[:,1]\n",
    "\n",
    "ytest_hat = ytest * 0.\n",
    "\n",
    "\n",
    "idx = (Htest == 1) *  (Gtest == 1) \n",
    "ytest_hat[idx] = pr_Cg_HG > 0.5;\n",
    "\n",
    "idx = (Xtest[:,0] == 0) *  (Xtest[:,1] == 1) \n",
    "ytest_hat[idx] = pr_Cg_nHG > 0.5;\n",
    "\n",
    "idx = (Xtest[:,0] == 1) *  (Xtest[:,1] == 0) \n",
    "ytest_hat[idx] = pr_Cg_HnG > 0.5;\n",
    "\n",
    "idx = (Xtest[:,0] == 0) *  (Xtest[:,1] == 0) \n",
    "ytest_hat[idx] = pr_Cg_nHnG > 0.5;\n",
    "\n",
    "np.mean(ytest==ytest_hat)"
   ]
  },
  {
   "cell_type": "code",
   "execution_count": 5,
   "id": "904e5798-23b1-4902-b908-d69ffec0ab6b",
   "metadata": {},
   "outputs": [
    {
     "data": {
      "text/plain": [
       "0.468"
      ]
     },
     "execution_count": 5,
     "metadata": {},
     "output_type": "execute_result"
    }
   ],
   "source": [
    "\n",
    "\n",
    "#Naive bayes classifier\n",
    "pr_HgC = np.mean(Htrain[Ctrain==1])\n",
    "pr_HgnC = np.mean(Htrain[Ctrain==0])\n",
    "pr_GgC = np.mean(Gtrain[Ctrain==1])\n",
    "pr_GgnC = np.mean(Gtrain[Ctrain==0])\n",
    "\n",
    "\n",
    "pr_HG_gC = pr_HgC * pr_GgC\n",
    "pr_HG_gnC = pr_HgnC * pr_GgnC\n",
    "\n",
    "pr_nHG_gC = (1-pr_HgC) * pr_GgC\n",
    "pr_nHG_gnC = (1-pr_HgnC) * pr_GgnC\n",
    "\n",
    "\n",
    "pr_HnG_gC = pr_HgC * (1-pr_GgC)\n",
    "pr_HnG_gnC = pr_HgnC * (1-pr_GgnC)\n",
    "\n",
    "\n",
    "pr_nHnG_gC = (1-pr_HgC) * (1-pr_GgC)\n",
    "pr_nHnG_gnC = (1-pr_HgnC) * (1-pr_GgnC)\n",
    "\n",
    "pr_C = np.mean(Ctrain==1)\n",
    "pr_nC = np.mean(Ctrain==0)\n",
    "\n",
    "\n",
    "pr_Cg_HG =  pr_HG_gC*pr_C / (pr_HG_gC*pr_C + pr_HG_gnC*pr_nC)\n",
    "pr_Cg_nHG = pr_nHG_gC*pr_C / (pr_nHG_gC*pr_C + pr_nHG_gnC*pr_nC)\n",
    "pr_Cg_HnG = pr_HnG_gC*pr_C / (pr_HnG_gC*pr_C + pr_HnG_gnC*pr_nC)\n",
    "pr_Cg_nHnG = pr_nHnG_gC*pr_C / (pr_nHnG_gC*pr_C + pr_nHnG_gnC*pr_nC)\n",
    "\n",
    "\n",
    " \n",
    "ytest_hat = ytest * 0.\n",
    "idx = (Xtest[:,0] == 1) *  (Xtest[:,1] == 1) \n",
    "ytest_hat[idx] = pr_Cg_HG > 0.5;\n",
    "\n",
    "idx = (Xtest[:,0] == 0) *  (Xtest[:,1] == 1) \n",
    "ytest_hat[idx] = pr_Cg_nHG > 0.5;\n",
    "\n",
    "idx = (Xtest[:,0] == 1) *  (Xtest[:,1] == 0) \n",
    "ytest_hat[idx] = pr_Cg_HnG > 0.5;\n",
    "\n",
    "idx = (Xtest[:,0] == 0) *  (Xtest[:,1] == 0) \n",
    "ytest_hat[idx] = pr_Cg_nHnG > 0.5;\n",
    "\n",
    "np.mean(ytest==ytest_hat)"
   ]
  },
  {
   "cell_type": "code",
   "execution_count": null,
   "id": "2c257977-f4aa-4eda-880d-8efbd7f72626",
   "metadata": {},
   "outputs": [],
   "source": []
  }
 ],
 "metadata": {
  "kernelspec": {
   "display_name": "Python 3 (ipykernel)",
   "language": "python",
   "name": "python3"
  },
  "language_info": {
   "codemirror_mode": {
    "name": "ipython",
    "version": 3
   },
   "file_extension": ".py",
   "mimetype": "text/x-python",
   "name": "python",
   "nbconvert_exporter": "python",
   "pygments_lexer": "ipython3",
   "version": "3.11.0"
  }
 },
 "nbformat": 4,
 "nbformat_minor": 5
}

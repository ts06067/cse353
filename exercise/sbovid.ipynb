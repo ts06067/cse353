{
 "cells": [
  {
   "cell_type": "code",
   "execution_count": 1,
   "id": "ddf97b2e-cb17-42d3-beb0-07227207942d",
   "metadata": {},
   "outputs": [],
   "source": [
    "import numpy as np"
   ]
  },
  {
   "cell_type": "code",
   "execution_count": 2,
   "id": "bd5c0de3-8757-4374-b19f-a5792581aa61",
   "metadata": {},
   "outputs": [],
   "source": [
    "# problem generation\n",
    "\n",
    "prV = 0.75\n",
    "prSgV = 5/75\n",
    "prSgnV = 15/25\n",
    "prBgV = 1/2\n",
    "prBgnV = 1/20\n",
    "\n",
    "\n",
    "m = 1000;\n",
    "\n",
    "V = np.random.rand(m) < prV;\n",
    "S = (np.random.rand(m) < prSgV)*V + (np.random.rand(m) < prSgnV)*(1-V)\n",
    "B = (np.random.rand(m) < prBgV)*V + (np.random.rand(m) < prBgnV)*(1-V)\n",
    "\n",
    "X = np.vstack([V,B]).T\n",
    "y = S\n",
    "\n",
    "Xtrain = X[:500,:]\n",
    "ytrain = y[:500]\n",
    "\n",
    "\n",
    "Xtest = X[500:,:]\n",
    "ytest = y[500:]"
   ]
  },
  {
   "cell_type": "code",
   "execution_count": 3,
   "id": "e9eb06cd-f99e-4017-80cc-700fb1b8db21",
   "metadata": {},
   "outputs": [
    {
     "data": {
      "text/plain": [
       "0.862"
      ]
     },
     "execution_count": 3,
     "metadata": {},
     "output_type": "execute_result"
    }
   ],
   "source": [
    "#problem inference\n",
    "\n",
    "Vtrain = Xtrain[:,0]\n",
    "Btrain = Xtrain[:,1]\n",
    "Strain = ytrain\n",
    "\n",
    "#full bayes classifier\n",
    "pr_Sg_VB = np.mean(Strain[np.logical_and(Vtrain==1, Btrain==1)])\n",
    "pr_Sg_nVB = np.mean(Strain[np.logical_and(Vtrain==0, Btrain==1) ])\n",
    "pr_Sg_VnB = np.mean(Strain[np.logical_and(Vtrain==1, Btrain==0)])\n",
    "pr_Sg_nVnB = np.mean(Strain[np.logical_and(Vtrain==0, Btrain==0)])\n",
    "\n",
    "ytest_hat = ytest * 0.\n",
    "idx = (Xtest[:,0] == 1) *  (Xtest[:,1] == 1) \n",
    "ytest_hat[idx] = pr_Sg_VB > 0.5;\n",
    "\n",
    "idx = (Xtest[:,0] == 0) *  (Xtest[:,1] == 1) \n",
    "ytest_hat[idx] = pr_Sg_nVB > 0.5;\n",
    "\n",
    "idx = (Xtest[:,0] == 1) *  (Xtest[:,1] == 0) \n",
    "ytest_hat[idx] = pr_Sg_VnB > 0.5;\n",
    "\n",
    "idx = (Xtest[:,0] == 0) *  (Xtest[:,1] == 0) \n",
    "ytest_hat[idx] = pr_Sg_nVnB > 0.5;\n",
    "\n",
    "np.mean(ytest==ytest_hat)"
   ]
  },
  {
   "cell_type": "code",
   "execution_count": 4,
   "id": "904e5798-23b1-4902-b908-d69ffec0ab6b",
   "metadata": {},
   "outputs": [
    {
     "data": {
      "text/plain": [
       "0.862"
      ]
     },
     "execution_count": 4,
     "metadata": {},
     "output_type": "execute_result"
    }
   ],
   "source": [
    "\n",
    "\n",
    "#Naive bayes classifier\n",
    "pr_VgS = np.mean(Vtrain[Strain==1])\n",
    "pr_VgnS = np.mean(Vtrain[Strain==0])\n",
    "pr_BgS = np.mean(Btrain[Strain==1])\n",
    "pr_BgnS = np.mean(Btrain[Strain==0])\n",
    "\n",
    "\n",
    "pr_VB_gS = pr_VgS * pr_BgS\n",
    "pr_VB_gnS = pr_VgnS * pr_BgnS\n",
    "\n",
    "pr_nVB_gS = (1-pr_VgS) * pr_BgS\n",
    "pr_nVB_gnS = (1-pr_VgnS) * pr_BgnS\n",
    "\n",
    "\n",
    "pr_VnB_gS = pr_VgS * (1-pr_BgS)\n",
    "pr_VnB_gnS = pr_VgnS * (1-pr_BgnS)\n",
    "\n",
    "\n",
    "pr_nVnB_gS = (1-pr_VgS) * (1-pr_BgS)\n",
    "pr_nVnB_gnS = (1-pr_VgnS) * (1-pr_BgnS)\n",
    "\n",
    "pr_S = np.mean(Strain==1)\n",
    "pr_nS = np.mean(Strain==0)\n",
    "pr_Sg_VB =  pr_VB_gS*pr_S / (pr_VB_gS*pr_S + pr_VB_gnS*pr_nS)\n",
    "pr_Sg_nVB = pr_nVB_gS*pr_S / (pr_nVB_gS*pr_S + pr_nVB_gnS*pr_nS)\n",
    "pr_Sg_VnB = pr_VnB_gS*pr_S / (pr_VnB_gS*pr_S + pr_VnB_gnS*pr_nS)\n",
    "pr_Sg_nVnB = pr_nVnB_gS*pr_S / (pr_nVnB_gS*pr_S + pr_nVnB_gnS*pr_nS)\n",
    "\n",
    "\n",
    " \n",
    "ytest_hat = ytest * 0.\n",
    "idx = (Xtest[:,0] == 1) *  (Xtest[:,1] == 1) \n",
    "ytest_hat[idx] = pr_Sg_VB > 0.5;\n",
    "\n",
    "idx = (Xtest[:,0] == 0) *  (Xtest[:,1] == 1) \n",
    "ytest_hat[idx] = pr_Sg_nVB > 0.5;\n",
    "\n",
    "idx = (Xtest[:,0] == 1) *  (Xtest[:,1] == 0) \n",
    "ytest_hat[idx] = pr_Sg_VnB > 0.5;\n",
    "\n",
    "idx = (Xtest[:,0] == 0) *  (Xtest[:,1] == 0) \n",
    "ytest_hat[idx] = pr_Sg_nVnB > 0.5;\n",
    "\n",
    "np.mean(ytest==ytest_hat)"
   ]
  },
  {
   "cell_type": "code",
   "execution_count": null,
   "id": "2c257977-f4aa-4eda-880d-8efbd7f72626",
   "metadata": {},
   "outputs": [],
   "source": []
  }
 ],
 "metadata": {
  "kernelspec": {
   "display_name": "Python 3 (ipykernel)",
   "language": "python",
   "name": "python3"
  },
  "language_info": {
   "codemirror_mode": {
    "name": "ipython",
    "version": 3
   },
   "file_extension": ".py",
   "mimetype": "text/x-python",
   "name": "python",
   "nbconvert_exporter": "python",
   "pygments_lexer": "ipython3",
   "version": "3.11.0"
  }
 },
 "nbformat": 4,
 "nbformat_minor": 5
}

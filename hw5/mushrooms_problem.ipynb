{
 "cells": [
  {
   "cell_type": "code",
   "execution_count": 49,
   "id": "076db9e0-9498-465d-8dd3-2e3d09c1ff09",
   "metadata": {
    "tags": []
   },
   "outputs": [],
   "source": [
    "import numpy as np\n",
    "import pandas as pd"
   ]
  },
  {
   "cell_type": "code",
   "execution_count": 50,
   "id": "0a5592ee-966f-4631-b1b0-fb1edc8c6c8b",
   "metadata": {
    "tags": []
   },
   "outputs": [],
   "source": [
    "file = open('data_features.txt','r')\n",
    "features = []\n",
    "for line in file:\n",
    "    features.append(line.strip('\\n').split('\\t'))\n"
   ]
  },
  {
   "cell_type": "code",
   "execution_count": 51,
   "id": "6ff2ec9d-6cbc-4b2a-bc83-c16ae2eaf706",
   "metadata": {},
   "outputs": [
    {
     "name": "stdout",
     "output_type": "stream",
     "text": [
      "8124\n",
      "3916\n",
      "3656\n",
      "1708\n"
     ]
    }
   ],
   "source": [
    "df = pd.read_csv('mushroom/agaricus-lepiota.data', sep=',',header=None, names = [f[0] for f in features[1:]])  # Use sep='\\t' if it's a TSV file\n",
    "\n",
    "#total number of mushrooms\n",
    "total = len(df)\n",
    "print(total)\n",
    "\n",
    "#total number of poisonous mushrooms\n",
    "total_poisonous = (df['poisonous']=='p').sum()\n",
    "print(total_poisonous)\n",
    "\n",
    "#total number of mushrooms with convex caps\n",
    "total_convexcaps = (df['cap-shape']=='x').sum()\n",
    "print(total_convexcaps)\n",
    "\n",
    "# total number of poisonous mushrooms with convex caps\n",
    "poisonous_convexcaps  = ((df['poisonous'] == 'p') & (df['cap-shape']=='x')).sum()\n",
    "print(poisonous_convexcaps)\n"
   ]
  },
  {
   "cell_type": "markdown",
   "id": "49a71bc1-77cd-4f8f-b8a2-827ab8033be5",
   "metadata": {},
   "source": [
    "From the mushrooms dataset, report\n",
    " - the probability that a mushroom is poisonous (prior)\n",
    " - the probability that a mushroom is poisonous given it is convex capped (posterior)\n",
    " - the probability that a mushroom is convex capped if it is poisonous (likelihood)\n"
   ]
  },
  {
   "cell_type": "code",
   "execution_count": 52,
   "id": "ca751976-966b-4c6c-b5a9-2cebad9a709b",
   "metadata": {},
   "outputs": [
    {
     "name": "stdout",
     "output_type": "stream",
     "text": [
      "0.48202855736090594 0.4671772428884026 0.43615934627170583\n"
     ]
    }
   ],
   "source": [
    "# 0.48202855736090594 0.4671772428884026 0.43615934627170583\n",
    "print(total_poisonous/total, poisonous_convexcaps/total_convexcaps, poisonous_convexcaps/total_poisonous)"
   ]
  },
  {
   "cell_type": "markdown",
   "id": "2716ddd7-a0d4-4672-88d3-1159ca1da6eb",
   "metadata": {},
   "source": [
    "## Which feature(s) / feature value(s) pair best answers this question: \"If a mushroom has this feature value, then it is definitely poisonous\"?"
   ]
  },
  {
   "cell_type": "code",
   "execution_count": 53,
   "id": "3b0d1bd4-f536-43ab-9228-4c6123470d1c",
   "metadata": {},
   "outputs": [
    {
     "name": "stdout",
     "output_type": "stream",
     "text": [
      "[('cap-shape', 'c'), ('cap-surface', 'g'), ('odor', 'p'), ('odor', 'f'), ('odor', 'c'), ('odor', 'y'), ('odor', 's'), ('odor', 'm'), ('gill-color', 'b'), ('gill-color', 'r'), ('stalk-color-above-ring', 'b'), ('stalk-color-above-ring', 'c'), ('stalk-color-above-ring', 'y'), ('stalk-color-below-ring', 'b'), ('stalk-color-below-ring', 'y'), ('stalk-color-below-ring', 'c'), ('veil-color', 'y'), ('ring-number', 'n'), ('ring-type', 'l'), ('ring-type', 'n'), ('spore-print-color', 'r')]\n"
     ]
    }
   ],
   "source": [
    "feature_names = [f[0] for f in features[1:]]\n",
    "feature_names.remove('poisonous')\n",
    "\n",
    "relevantFeatures = []\n",
    "veryRelevantFeatures = []\n",
    "\n",
    "for feature_name in feature_names:\n",
    "    for value in df[feature_name].unique():\n",
    "        numPoisonousFeatureTrue = ((df['poisonous'] == 'p') & (df[feature_name]==value)).sum()\n",
    "        numEdibleFeatureTrue = ((df['poisonous'] == 'e') & (df[feature_name]==value)).sum()\n",
    "        #print(\"posionous: \\t\", feature_name, \"\\t\", value, ((df['poisonous'] == 'p') & (df[feature_name]==value)).sum())\n",
    "        #print(\"edible: \\t\", feature_name, \"\\t\", value, ((df['poisonous'] == 'e') & (df[feature_name]==value)).sum())\n",
    "        #print()\n",
    "        if numEdibleFeatureTrue == 0 and numPoisonousFeatureTrue != 0 :\n",
    "            relevantFeatures.append((feature_name, value))\n",
    "        if numPoisonousFeatureTrue == total_poisonous:\n",
    "            veryRelevantFeatures.append((feature_name, value))\n",
    "\n",
    "print(relevantFeatures)"
   ]
  },
  {
   "cell_type": "markdown",
   "id": "c048c54c-8135-46f7-bef8-579812119697",
   "metadata": {},
   "source": [
    "## Which feature(s) / feature value(s) pair best answers this question: \"To identify a poisonous mushroom, I should look for this feature value\"? "
   ]
  },
  {
   "cell_type": "code",
   "execution_count": 54,
   "id": "d6e8ea3c-4722-4a1f-9a1f-68cbf167d7db",
   "metadata": {},
   "outputs": [
    {
     "name": "stdout",
     "output_type": "stream",
     "text": [
      "[('veil-type', 'p')]\n"
     ]
    }
   ],
   "source": [
    "print(veryRelevantFeatures)"
   ]
  },
  {
   "cell_type": "code",
   "execution_count": null,
   "id": "6251911a-4146-4d28-9631-791864715ecf",
   "metadata": {},
   "outputs": [],
   "source": []
  }
 ],
 "metadata": {
  "kernelspec": {
   "display_name": "Python 3 (ipykernel)",
   "language": "python",
   "name": "python3"
  },
  "language_info": {
   "codemirror_mode": {
    "name": "ipython",
    "version": 3
   },
   "file_extension": ".py",
   "mimetype": "text/x-python",
   "name": "python",
   "nbconvert_exporter": "python",
   "pygments_lexer": "ipython3",
   "version": "3.11.0"
  }
 },
 "nbformat": 4,
 "nbformat_minor": 5
}
